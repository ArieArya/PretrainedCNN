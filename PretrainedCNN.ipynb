{
 "cells": [
  {
   "cell_type": "markdown",
   "metadata": {
    "button": false,
    "new_sheet": false,
    "run_control": {
     "read_only": false
    }
   },
   "source": [
    "## Table of Contents\n",
    "\n",
    "<div class=\"alert alert-block alert-info\" style=\"margin-top: 20px\">\n",
    "\n",
    "<font size = 3>    \n",
    "\n",
    "1. <a href=\"#item41\">Download Data</a>\n",
    "2. <a href=\"#item42\">Part 1 - Building and Training Models</a>\n",
    "3. <a href=\"#item43\">Part 2 - Evaluating the Models</a>  \n",
    "4. <a href=\"#item44\">Part 3 - Prediction using the Models</a>  \n",
    "\n",
    "</font>\n",
    "    \n",
    "</div>"
   ]
  },
  {
   "cell_type": "markdown",
   "metadata": {},
   "source": [
    "## Download Data"
   ]
  },
  {
   "cell_type": "code",
   "execution_count": null,
   "metadata": {},
   "outputs": [],
   "source": [
    "!wget https://s3-api.us-geo.objectstorage.softlayer.net/cf-courses-data/CognitiveClass/DL0321EN/data/concrete_data_week4.zip"
   ]
  },
  {
   "cell_type": "code",
   "execution_count": null,
   "metadata": {},
   "outputs": [],
   "source": [
    "!unzip concrete_data_week4.zip"
   ]
  },
  {
   "cell_type": "markdown",
   "metadata": {},
   "source": [
    "## Part 1 - Building and Training Models"
   ]
  },
  {
   "cell_type": "markdown",
   "metadata": {},
   "source": [
    "Here, the VGG16 and Resnet50 pre-trained Convolutional Neural Networks will be used, with its topmost layer replaced with our own dense layer of 2 neurons (either cracked wall or uncracked wall)."
   ]
  },
  {
   "cell_type": "code",
   "execution_count": 1,
   "metadata": {},
   "outputs": [],
   "source": [
    "# Import required packages\n",
    "import keras\n",
    "from keras.models import Sequential\n",
    "from keras.layers import Dense\n",
    "from keras.applications import VGG16\n",
    "from keras.applications.vgg16 import preprocess_input\n",
    "from keras.preprocessing.image import ImageDataGenerator\n",
    "from keras.applications import ResNet50\n",
    "from keras.applications.resnet50 import preprocess_input as preprocess_input_rs50\n",
    "from keras.models import load_model"
   ]
  },
  {
   "cell_type": "code",
   "execution_count": 2,
   "metadata": {},
   "outputs": [],
   "source": [
    "# Define the Global Constants\n",
    "image_size = 224\n",
    "batch_size = 100"
   ]
  },
  {
   "cell_type": "code",
   "execution_count": 3,
   "metadata": {
    "scrolled": true,
    "tags": []
   },
   "outputs": [
    {
     "output_type": "stream",
     "name": "stdout",
     "text": "Found 30001 images belonging to 2 classes.\nFound 9501 images belonging to 2 classes.\n"
    }
   ],
   "source": [
    "# Create ImageDataGenerator with VGG16 preprocessing\n",
    "data_generator = ImageDataGenerator(\n",
    "    preprocessing_function=preprocess_input,\n",
    ")\n",
    "\n",
    "train_generator = data_generator.flow_from_directory(\n",
    "    'concrete_data/train',\n",
    "    target_size=(image_size, image_size),\n",
    "    batch_size=batch_size,\n",
    "    class_mode='categorical')\n",
    "\n",
    "validation_generator = data_generator.flow_from_directory(\n",
    "    'concrete_data/valid',\n",
    "    target_size=(image_size, image_size),\n",
    "    batch_size=batch_size,\n",
    "    class_mode='categorical')"
   ]
  },
  {
   "cell_type": "code",
   "execution_count": 4,
   "metadata": {
    "tags": []
   },
   "outputs": [
    {
     "output_type": "execute_result",
     "data": {
      "text/plain": "[<tensorflow.python.keras.engine.training.Model at 0x2e18a97cd00>,\n <tensorflow.python.keras.layers.core.Dense at 0x2e184714b50>]"
     },
     "metadata": {},
     "execution_count": 4
    }
   ],
   "source": [
    "# Create the model\n",
    "model = Sequential()\n",
    "\n",
    "# Set the pooling and weights to be the same as Resnet50 for fair comparison\n",
    "model.add(VGG16(\n",
    "    include_top=False,\n",
    "    pooling='avg',\n",
    "    weights='imagenet',\n",
    "    ))\n",
    "\n",
    "# Add the Dense Output Layer with 2 neurons and a softmax activation\n",
    "model.add(Dense(2, activation='softmax'))\n",
    "\n",
    "# Print the layers in the model\n",
    "model.layers"
   ]
  },
  {
   "cell_type": "code",
   "execution_count": 5,
   "metadata": {
    "tags": []
   },
   "outputs": [
    {
     "output_type": "stream",
     "name": "stdout",
     "text": "Model: \"sequential\"\n_________________________________________________________________\nLayer (type)                 Output Shape              Param #   \n=================================================================\nvgg16 (Model)                (None, 512)               14714688  \n_________________________________________________________________\ndense (Dense)                (None, 2)                 1026      \n=================================================================\nTotal params: 14,715,714\nTrainable params: 1,026\nNon-trainable params: 14,714,688\n_________________________________________________________________\n"
    }
   ],
   "source": [
    "# Set the VGG16 pretrained model parameters to untrainable (it is already pre-trained)\n",
    "model.layers[0].trainable = False\n",
    "\n",
    "# Print the model summary\n",
    "model.summary()"
   ]
  },
  {
   "cell_type": "code",
   "execution_count": 6,
   "metadata": {},
   "outputs": [],
   "source": [
    "# Compile the model using the adam optimizer and a loss function of categorical cross-entropy\n",
    "model.compile(optimizer='adam', loss='categorical_crossentropy', metrics=['accuracy'])"
   ]
  },
  {
   "cell_type": "code",
   "execution_count": 7,
   "metadata": {},
   "outputs": [],
   "source": [
    "# Define the same epoch and steps per epoch as the Resnet50 model\n",
    "steps_per_epoch_training = len(train_generator)\n",
    "steps_per_epoch_validation = len(validation_generator)\n",
    "num_epochs = 2"
   ]
  },
  {
   "cell_type": "code",
   "execution_count": 8,
   "metadata": {
    "tags": []
   },
   "outputs": [
    {
     "output_type": "stream",
     "name": "stdout",
     "text": "WARNING:tensorflow:From <ipython-input-8-b0248c117dc5>:2: Model.fit_generator (from tensorflow.python.keras.engine.training) is deprecated and will be removed in a future version.\nInstructions for updating:\nPlease use Model.fit, which supports generators.\nEpoch 1/2\n301/301 [==============================] - 4500s 15s/step - loss: 0.1214 - accuracy: 0.9616 - val_loss: 0.0310 - val_accuracy: 0.9939\nEpoch 2/2\n301/301 [==============================] - 4538s 15s/step - loss: 0.0244 - accuracy: 0.9947 - val_loss: 0.0188 - val_accuracy: 0.9964\n"
    }
   ],
   "source": [
    "# Fit the model\n",
    "fit_history = model.fit_generator(\n",
    "    train_generator,\n",
    "    steps_per_epoch=steps_per_epoch_training,\n",
    "    epochs=num_epochs,\n",
    "    validation_data=validation_generator,\n",
    "    validation_steps=steps_per_epoch_validation,\n",
    "    verbose=1,\n",
    ")"
   ]
  },
  {
   "cell_type": "code",
   "execution_count": 9,
   "metadata": {},
   "outputs": [],
   "source": [
    "# Save the model\n",
    "model.save('classifier_vgg16_model.h5')"
   ]
  },
  {
   "cell_type": "code",
   "execution_count": 10,
   "metadata": {
    "tags": []
   },
   "outputs": [
    {
     "output_type": "stream",
     "name": "stdout",
     "text": "Found 30001 images belonging to 2 classes.\nFound 9501 images belonging to 2 classes.\nModel: \"sequential_1\"\n_________________________________________________________________\nLayer (type)                 Output Shape              Param #   \n=================================================================\nresnet50 (Model)             (None, 2048)              23587712  \n_________________________________________________________________\ndense_1 (Dense)              (None, 2)                 4098      \n=================================================================\nTotal params: 23,591,810\nTrainable params: 4,098\nNon-trainable params: 23,587,712\n_________________________________________________________________\nEpoch 1/2\n301/301 [==============================] - 2007s 7s/step - loss: 0.0490 - accuracy: 0.9829 - val_loss: 0.0095 - val_accuracy: 0.9977\nEpoch 2/2\n301/301 [==============================] - 2051s 7s/step - loss: 0.0072 - accuracy: 0.9983 - val_loss: 0.0062 - val_accuracy: 0.9985\n"
    }
   ],
   "source": [
    "# Create ImageDataGenerator with Resnet50 preprocessing\n",
    "data_generator = ImageDataGenerator(\n",
    "    preprocessing_function=preprocess_input_rs50,\n",
    ")\n",
    "\n",
    "train_generator = data_generator.flow_from_directory(\n",
    "    'concrete_data/train',\n",
    "    target_size=(image_size, image_size),\n",
    "    batch_size=batch_size,\n",
    "    class_mode='categorical')\n",
    "\n",
    "validation_generator = data_generator.flow_from_directory(\n",
    "    'concrete_data/valid',\n",
    "    target_size=(image_size, image_size),\n",
    "    batch_size=batch_size,\n",
    "    class_mode='categorical')\n",
    "\n",
    "# Now create the Resnet50 model to compare with \n",
    "model_rs50 = Sequential()\n",
    "\n",
    "model_rs50.add(ResNet50(\n",
    "    include_top=False,\n",
    "    pooling='avg',\n",
    "    weights='imagenet',\n",
    "    ))\n",
    "\n",
    "# Add the Dense Output Layer with 2 neurons\n",
    "model_rs50.add(Dense(2, activation='softmax'))\n",
    "\n",
    "# Print the layers in the model\n",
    "model_rs50.layers\n",
    "\n",
    "# Set the Resnet50 pretrained model parameters to untrainable\n",
    "model_rs50.layers[0].trainable = False\n",
    "\n",
    "# Print the model summary\n",
    "model_rs50.summary()\n",
    "\n",
    "# Compile the model using the adam optimizer\n",
    "model_rs50.compile(optimizer='adam', loss='categorical_crossentropy', metrics=['accuracy'])\n",
    "\n",
    "# Fit the model\n",
    "fit_history = model_rs50.fit_generator(\n",
    "    train_generator,\n",
    "    steps_per_epoch=steps_per_epoch_training,\n",
    "    epochs=num_epochs,\n",
    "    validation_data=validation_generator,\n",
    "    validation_steps=steps_per_epoch_validation,\n",
    "    verbose=1,\n",
    ")\n",
    "\n",
    "# Save the model\n",
    "model_rs50.save('classifier_rs50_model.h5')"
   ]
  },
  {
   "cell_type": "markdown",
   "metadata": {},
   "source": [
    "   "
   ]
  },
  {
   "cell_type": "markdown",
   "metadata": {},
   "source": [
    "<a id=\"item43\"></a>"
   ]
  },
  {
   "cell_type": "markdown",
   "metadata": {},
   "source": [
    "## Part 2 - Evaluating the Models"
   ]
  },
  {
   "cell_type": "markdown",
   "metadata": {},
   "source": [
    "Here, the two different CNN models will be evaluated and its performance compared.\n"
   ]
  },
  {
   "cell_type": "code",
   "execution_count": 11,
   "metadata": {
    "tags": []
   },
   "outputs": [
    {
     "output_type": "stream",
     "name": "stdout",
     "text": "Model: \"sequential\"\n_________________________________________________________________\nLayer (type)                 Output Shape              Param #   \n=================================================================\nvgg16 (Model)                (None, 512)               14714688  \n_________________________________________________________________\ndense (Dense)                (None, 2)                 1026      \n=================================================================\nTotal params: 14,715,714\nTrainable params: 1,026\nNon-trainable params: 14,714,688\n_________________________________________________________________\n"
    }
   ],
   "source": [
    "# Load the VGG16 model\n",
    "model_vgg16 = load_model('classifier_vgg16_model.h5')\n",
    "model_vgg16.summary()"
   ]
  },
  {
   "cell_type": "code",
   "execution_count": 12,
   "metadata": {
    "tags": []
   },
   "outputs": [
    {
     "output_type": "stream",
     "name": "stdout",
     "text": "Found 500 images belonging to 2 classes.\n"
    }
   ],
   "source": [
    "# Create ImageDataGenerator with VGG16 preprocessing\n",
    "data_generator = ImageDataGenerator(\n",
    "    preprocessing_function=preprocess_input,\n",
    ")\n",
    "\n",
    "test_generator_vgg16 = data_generator.flow_from_directory(\n",
    "    'concrete_data/test',\n",
    "    target_size=(image_size, image_size),\n",
    "    shuffle = False)"
   ]
  },
  {
   "cell_type": "code",
   "execution_count": 13,
   "metadata": {
    "tags": []
   },
   "outputs": [
    {
     "output_type": "stream",
     "name": "stdout",
     "text": "WARNING:tensorflow:From <ipython-input-13-21ae6c7889d1>:2: Model.evaluate_generator (from tensorflow.python.keras.engine.training) is deprecated and will be removed in a future version.\nInstructions for updating:\nPlease use Model.evaluate, which supports generators.\nVGG16 Accuracy:  0.9959999918937683\n"
    }
   ],
   "source": [
    "# Evaluate the model on test data\n",
    "score = model_vgg16.evaluate_generator(test_generator_vgg16)\n",
    "accuracy_vgg16 = score[1]\n",
    "print(\"VGG16 Accuracy: \", accuracy_vgg16)"
   ]
  },
  {
   "cell_type": "code",
   "execution_count": 14,
   "metadata": {
    "tags": []
   },
   "outputs": [
    {
     "output_type": "stream",
     "name": "stdout",
     "text": "Model: \"sequential_1\"\n_________________________________________________________________\nLayer (type)                 Output Shape              Param #   \n=================================================================\nresnet50 (Model)             (None, 2048)              23587712  \n_________________________________________________________________\ndense_1 (Dense)              (None, 2)                 4098      \n=================================================================\nTotal params: 23,591,810\nTrainable params: 4,098\nNon-trainable params: 23,587,712\n_________________________________________________________________\n"
    }
   ],
   "source": [
    "# Load the Resnet50 Model\n",
    "model_rs50 = load_model('classifier_rs50_model.h5')\n",
    "model_rs50.summary()"
   ]
  },
  {
   "cell_type": "code",
   "execution_count": 15,
   "metadata": {
    "tags": []
   },
   "outputs": [
    {
     "output_type": "stream",
     "name": "stdout",
     "text": "Found 500 images belonging to 2 classes.\n"
    }
   ],
   "source": [
    "# Create ImageDataGenerator with Resnet50 preprocessing\n",
    "data_generator = ImageDataGenerator(\n",
    "    preprocessing_function=preprocess_input_rs50,\n",
    ")\n",
    "\n",
    "test_generator_rs50 = data_generator.flow_from_directory(\n",
    "    'concrete_data/test',\n",
    "    target_size=(image_size, image_size),\n",
    "    shuffle = False)"
   ]
  },
  {
   "cell_type": "code",
   "execution_count": 16,
   "metadata": {
    "tags": []
   },
   "outputs": [
    {
     "output_type": "stream",
     "name": "stdout",
     "text": "ResNet50 Accuracy:  1.0\n"
    }
   ],
   "source": [
    "# Evaluate the model on test data\n",
    "score = model_rs50.evaluate_generator(test_generator_rs50)\n",
    "accuracy_rs50 = score[1]\n",
    "print(\"ResNet50 Accuracy: \", accuracy_rs50)"
   ]
  },
  {
   "cell_type": "code",
   "execution_count": null,
   "metadata": {},
   "outputs": [],
   "source": [
    "# As can be seen, the ResNet50 Accuracy is 1.0 compared to VGG16 Accuracy of 0.996, indicating the ResNet50 performs marginally better"
   ]
  },
  {
   "cell_type": "markdown",
   "metadata": {},
   "source": [
    "## Part 3 - Prediction using the Models"
   ]
  },
  {
   "cell_type": "markdown",
   "metadata": {},
   "source": [
    "This section will perform simple prediction of five input images. 'Positive' indicates the image contains a cracked wall, whilst 'Negative' indicates an uncracked wall."
   ]
  },
  {
   "cell_type": "code",
   "execution_count": 23,
   "metadata": {
    "tags": []
   },
   "outputs": [
    {
     "output_type": "execute_result",
     "data": {
      "text/plain": "['Positive', 'Positive', 'Positive', 'Positive', 'Positive']"
     },
     "metadata": {},
     "execution_count": 23
    }
   ],
   "source": [
    "# Using the VGG16 Model\n",
    "predict_vgg16 = model_vgg16.predict_generator(test_generator_vgg16)\n",
    "prob_positive_vgg16 = predict_vgg16[0:5][:,0]\n",
    "prediction_vgg16 = ['Positive' if x > 0.5 else 'Negative' for x in prob_positive_vgg16]\n",
    "prediction_vgg16"
   ]
  },
  {
   "cell_type": "code",
   "execution_count": 24,
   "metadata": {},
   "outputs": [
    {
     "output_type": "execute_result",
     "data": {
      "text/plain": "['Positive', 'Positive', 'Positive', 'Positive', 'Positive']"
     },
     "metadata": {},
     "execution_count": 24
    }
   ],
   "source": [
    "# Using the ResNet50 Model\n",
    "predict_rs50 = model_rs50.predict_generator(test_generator_rs50)\n",
    "prob_positive_rs50 = predict_rs50[0:5][:,0]\n",
    "prediction_rs50 = ['Positive' if x > 0.5 else 'Negative' for x in prob_positive_rs50]\n",
    "prediction_rs50"
   ]
  },
  {
   "cell_type": "code",
   "execution_count": null,
   "metadata": {},
   "outputs": [],
   "source": [
    "# Both models made the same prediction for the 5 input images"
   ]
  },
  {
   "cell_type": "markdown",
   "metadata": {},
   "source": [
    "  "
   ]
  }
 ],
 "metadata": {
  "kernelspec": {
   "display_name": "Python 3",
   "language": "python",
   "name": "python3"
  },
  "language_info": {
   "codemirror_mode": {
    "name": "ipython",
    "version": 3
   },
   "file_extension": ".py",
   "mimetype": "text/x-python",
   "name": "python",
   "nbconvert_exporter": "python",
   "pygments_lexer": "ipython3",
   "version": "3.8.3-final"
  }
 },
 "nbformat": 4,
 "nbformat_minor": 4
}